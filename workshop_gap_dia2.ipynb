{
 "cells": [
  {
   "cell_type": "markdown",
   "id": "72931ff3",
   "metadata": {},
   "source": [
    "# Bem Vindo ao Dia 2 do Workshop de GAP!"
   ]
  },
  {
   "cell_type": "code",
   "execution_count": 1,
   "id": "4db06ada",
   "metadata": {},
   "outputs": [
    {
     "data": {
      "text/plain": [
       "true"
      ]
     },
     "execution_count": 1,
     "metadata": {
      "text/plain": ""
     },
     "output_type": "execute_result"
    }
   ],
   "source": [
    "LoadPackage(\"JupyterViz\");"
   ]
  },
  {
   "cell_type": "markdown",
   "id": "b3d6202f",
   "metadata": {},
   "source": [
    "## Ações de grupo"
   ]
  },
  {
   "cell_type": "markdown",
   "id": "3454ba7e",
   "metadata": {},
   "source": [
    "Vamos falar um pouquinho sobre ações de grupos:\n",
    "\n",
    "Seja $G$ um grupo e $\\Omega$ um conjunto qualquer, definimos uma ação de grupo como sendo uma função \n",
    "$G \\times \\Omega \\rightarrow \\Omega$ tal que\n",
    "\n",
    "- $e.x = x, \\quad \\forall x \\in \\Omega$ \n",
    "- $g_{1}(g_{2}.x) = (g_{1}g_{2})x$\n",
    "\n",
    "Vou mostrar como conseguimos integrar as ideias de ação no GAP muito bem, \n",
    "principalmente utilizando a noção de grupos de permutação. \n",
    "\n",
    "Por exemplo, seja $(1,3,2,4) \\in S_{4}$ e S4 agindo em índices {1,2,3,4} "
   ]
  },
  {
   "cell_type": "code",
   "execution_count": 119,
   "id": "82078b4f",
   "metadata": {},
   "outputs": [
    {
     "data": {
      "text/plain": [
       "4"
      ]
     },
     "execution_count": 119,
     "metadata": {
      "text/plain": ""
     },
     "output_type": "execute_result"
    }
   ],
   "source": [
    "g := (1,3,2,4);;\n",
    "2^g;"
   ]
  },
  {
   "cell_type": "code",
   "execution_count": 121,
   "id": "c8080704",
   "metadata": {},
   "outputs": [
    {
     "data": {
      "text/plain": [
       "[ 3, 4 ]"
      ]
     },
     "execution_count": 121,
     "metadata": {
      "text/plain": ""
     },
     "output_type": "execute_result"
    }
   ],
   "source": [
    "tuple := [1,2];;\n",
    "OnTuples(tuple,g);"
   ]
  },
  {
   "cell_type": "code",
   "execution_count": 125,
   "id": "b47272c5",
   "metadata": {},
   "outputs": [
    {
     "data": {
      "text/plain": [
       "[ [ 2, 1 ], [ 3, 2 ], [ 3, 4 ], [ 4, 2 ] ]"
      ]
     },
     "execution_count": 125,
     "metadata": {
      "text/plain": ""
     },
     "output_type": "execute_result"
    }
   ],
   "source": [
    "m := [[1,2],\n",
    "    [2,3],\n",
    "    [3,4],\n",
    "    [1,3]];;\n",
    "\n",
    "OnSetsTuples(m, g);\n"
   ]
  },
  {
   "cell_type": "markdown",
   "id": "79e7ce81",
   "metadata": {},
   "source": [
    "## Embedding de um grupo no grupo de isomorfismo \n",
    "\n",
    "Todo grupo é isomorfo a um subgrupo de $S_{n}$ com $|S_n| > |G|$,  \n",
    "podemos encontrar esse isomorfismo com o gap:"
   ]
  },
  {
   "cell_type": "code",
   "execution_count": 130,
   "id": "6bc86ce6",
   "metadata": {},
   "outputs": [
    {
     "data": {
      "text/plain": [
       "[ <identity> of ..., f1, f2, f1*f2 ]"
      ]
     },
     "execution_count": 127,
     "metadata": {
      "text/plain": ""
     },
     "output_type": "execute_result"
    },
    {
     "data": {
      "text/plain": [
       "Group([ (1,2,3,4) ])"
      ]
     },
     "execution_count": 129,
     "metadata": {
      "text/plain": ""
     },
     "output_type": "execute_result"
    },
    {
     "data": {
      "text/plain": [
       "[ (), (1,2,3,4), (1,3)(2,4), (1,4,3,2) ]"
      ]
     },
     "execution_count": 130,
     "metadata": {
      "text/plain": ""
     },
     "output_type": "execute_result"
    }
   ],
   "source": [
    "group := CyclicGroup(4);;  # Mudar esse grupo para seu grupo favorito\n",
    "\n",
    "Elements(group);\n",
    "\n",
    "iso := IsomorphismPermGroup(group);;\n",
    "\n",
    "perm_group := Image(iso);\n",
    "Elements(perm_group);"
   ]
  },
  {
   "cell_type": "code",
   "execution_count": 132,
   "id": "d359bb04",
   "metadata": {},
   "outputs": [
    {
     "data": {
      "text/plain": [
       "[ [ 1, 2 ], [ 2, 3 ], [ 3, 4 ], [ 4, 1 ] ]"
      ]
     },
     "execution_count": 131,
     "metadata": {
      "text/plain": ""
     },
     "output_type": "execute_result"
    },
    {
     "data": {
      "text/plain": [
       "Group(())"
      ]
     },
     "execution_count": 132,
     "metadata": {
      "text/plain": ""
     },
     "output_type": "execute_result"
    }
   ],
   "source": [
    "orbit := Orbit(perm_group, [1,2], OnTuples);\n",
    "stabilizer := Stabilizer(perm_group,3);"
   ]
  },
  {
   "cell_type": "markdown",
   "id": "fe7b8c3e",
   "metadata": {},
   "source": [
    "# Grupos de matrizes\n",
    "\n",
    "Os nossos grupos de matrizes favoritos estão implementados no GAP \n",
    "e podemos utilizá-los:"
   ]
  },
  {
   "cell_type": "code",
   "execution_count": 143,
   "id": "80b48634",
   "metadata": {},
   "outputs": [
    {
     "data": {
      "text/plain": [
       "GL(2,4)"
      ]
     },
     "execution_count": 140,
     "metadata": {
      "text/plain": ""
     },
     "output_type": "execute_result"
    },
    {
     "data": {
      "text/plain": [
       "180"
      ]
     },
     "execution_count": 142,
     "metadata": {
      "text/plain": ""
     },
     "output_type": "execute_result"
    },
    {
     "data": {
      "text/plain": [
       "[ [ 0*Z(2), Z(2)^0 ], [ Z(2)^0, Z(2^2) ] ]"
      ]
     },
     "execution_count": 143,
     "metadata": {
      "text/plain": ""
     },
     "output_type": "execute_result"
    }
   ],
   "source": [
    "gl := GL(2,2^2); # First dimension then q = p^k \n",
    "elm_list := Elements(gl);;\n",
    "Size(elm_list);\n",
    "elm_list[3];"
   ]
  },
  {
   "cell_type": "markdown",
   "id": "c56a64fd",
   "metadata": {},
   "source": [
    "Temos que 0*Z(q) é identidade na operação de soma do grupo finito\n",
    "e Z(q)^0 é a unidade, Z(q) sendo o gerador do corpo de ordem q = p^k.  \n",
    "\n",
    "**Podemos** até criar nosso próprio grupo de matriz dando duas matrizes geradoras invertíveis:"
   ]
  },
  {
   "cell_type": "code",
   "execution_count": 184,
   "id": "31c7f342",
   "metadata": {},
   "outputs": [
    {
     "name": "stdout",
     "output_type": "stream",
     "text": [
      "Is Infinity\n"
     ]
    },
    {
     "data": {
      "text/plain": [
       "[ [ -2, 1 ], [ 3/2, -1/2 ] ]"
      ]
     },
     "execution_count": 181,
     "metadata": {
      "text/plain": ""
     },
     "output_type": "execute_result"
    },
    {
     "data": {
      "text/plain": [
       "Group([ [ [ 1, 2 ], [ 3, 4 ] ], [ [ 3, 3 ], [ 1, 2 ] ] ])"
      ]
     },
     "execution_count": 182,
     "metadata": {
      "text/plain": ""
     },
     "output_type": "execute_result"
    },
    {
     "data": {
      "text/plain": [
       "infinity"
      ]
     },
     "execution_count": 183,
     "metadata": {
      "text/plain": ""
     },
     "output_type": "execute_result"
    }
   ],
   "source": [
    "m1 :=  [[1,2],[3,4]];;\n",
    "m2 := [[3,3],[1,2]];;\n",
    "\n",
    "m1^-1;\n",
    "\n",
    "g := Group(m1,m2);\n",
    "\n",
    "Order(g);\n",
    "\n",
    "if IsInfinity(Order(g)) then\n",
    "    Display(\"Is Infinity\");\n",
    "fi;"
   ]
  },
  {
   "cell_type": "markdown",
   "id": "f3d16cf4",
   "metadata": {},
   "source": [
    "# Combinatória "
   ]
  },
  {
   "cell_type": "code",
   "execution_count": 9,
   "id": "c0d674ef",
   "metadata": {},
   "outputs": [
    {
     "data": {
      "text/plain": [
       "[ [ 2, 1, 4, 3 ], [ 2, 3, 4, 1 ], [ 2, 4, 1, 3 ], [ 3, 1, 4, 2 ],   [ 3, 4, 1, 2 ], [ 3, 4, 2, 1 ], [ 4, 1, 2, 3 ], [ 4, 3, 1, 2 ],   [ 4, 3, 2, 1 ] ]"
      ]
     },
     "execution_count": 8,
     "metadata": {
      "text/plain": ""
     },
     "output_type": "execute_result"
    },
    {
     "data": {
      "text/plain": [
       "9"
      ]
     },
     "execution_count": 9,
     "metadata": {
      "text/plain": ""
     },
     "output_type": "execute_result"
    }
   ],
   "source": [
    "Derangements([1, 2, 3, 4]);\n",
    "NrDerangements([1,2,3,4]);"
   ]
  },
  {
   "cell_type": "code",
   "execution_count": 7,
   "id": "1f3b8ba1",
   "metadata": {},
   "outputs": [
    {
     "data": {
      "text/plain": [
       "[ [ (), (1,2,3,4) ], [ (), (1,3)(2,4) ], [ (), (1,4,3,2) ],   [ (1,2,3,4), (1,3)(2,4) ], [ (1,2,3,4), (1,4,3,2) ],   [ (1,3)(2,4), (1,4,3,2) ] ]"
      ]
     },
     "execution_count": 7,
     "metadata": {
      "text/plain": ""
     },
     "output_type": "execute_result"
    }
   ],
   "source": [
    "Combinations(Elements(perm_group), 2);"
   ]
  },
  {
   "cell_type": "code",
   "execution_count": null,
   "id": "0230e418",
   "metadata": {},
   "outputs": [],
   "source": []
  },
  {
   "cell_type": "markdown",
   "id": "4f09c7a3",
   "metadata": {},
   "source": [
    "# Grupos e suas propriedades"
   ]
  },
  {
   "cell_type": "markdown",
   "id": "258a8dab",
   "metadata": {},
   "source": [
    "O GAP nos proporciona uma lista de SmallGroups e uma lista de funções \"Flag\" (Predicados que retornam \"true\" ou \"false\" para uma certa propriedade) que podemos utilizar para filtrar esta lista. \n",
    "\n",
    "Por exemplo, podemos pegar os grupos não abelianos de ordem até 200 da seguinte forma:"
   ]
  },
  {
   "cell_type": "code",
   "execution_count": 188,
   "id": "a67fb2e6",
   "metadata": {},
   "outputs": [
    {
     "data": {
      "text/plain": [
       "5676"
      ]
     },
     "execution_count": 188,
     "metadata": {
      "text/plain": ""
     },
     "output_type": "execute_result"
    }
   ],
   "source": [
    "order := 200;; # Ordem que queremos testar\n",
    "order_list := [1..order];;\n",
    "\n",
    "g_list := AllSmallGroups(order_list, x-> not IsAbelian(x));;\n",
    "\n",
    "Size(g_list);"
   ]
  },
  {
   "cell_type": "markdown",
   "id": "def9bdf5",
   "metadata": {},
   "source": [
    "Podemos encontrar o subgrupo derivado: "
   ]
  },
  {
   "cell_type": "code",
   "execution_count": 25,
   "id": "30710b55",
   "metadata": {},
   "outputs": [
    {
     "data": {
      "text/plain": [
       "\"A5\""
      ]
     },
     "execution_count": 25,
     "metadata": {
      "text/plain": ""
     },
     "output_type": "execute_result"
    }
   ],
   "source": [
    "g1 := SymmetricGroup(5);;\n",
    "g_derived := DerivedSubgroup(g);;\n",
    "\n",
    "StructureDescription(g_derived);"
   ]
  },
  {
   "cell_type": "markdown",
   "id": "781d6ed8",
   "metadata": {},
   "source": [
    "Podemos encontrar todos os subgrupos de um grupo: "
   ]
  },
  {
   "cell_type": "code",
   "execution_count": 196,
   "id": "617cf157",
   "metadata": {},
   "outputs": [
    {
     "data": {
      "text/plain": [
       "156"
      ]
     },
     "execution_count": 191,
     "metadata": {
      "text/plain": ""
     },
     "output_type": "execute_result"
    },
    {
     "data": {
      "text/plain": [
       "\"D12\""
      ]
     },
     "execution_count": 192,
     "metadata": {
      "text/plain": ""
     },
     "output_type": "execute_result"
    },
    {
     "data": {
      "text/plain": [
       "[ \"D8\", \"C4\", \"C2 x C2\", \"C2 x C2\", \"C2\", \"1\" ]"
      ]
     },
     "execution_count": 195,
     "metadata": {
      "text/plain": ""
     },
     "output_type": "execute_result"
    },
    {
     "data": {
      "text/plain": [
       "6"
      ]
     },
     "execution_count": 196,
     "metadata": {
      "text/plain": ""
     },
     "output_type": "execute_result"
    }
   ],
   "source": [
    "g1 := SymmetricGroup(5);;\n",
    "subgrp_list := AllSubgroups(g1);;\n",
    "Size(subgrp_list);\n",
    "StructureDescription(subgrp_list[140]);\n",
    "\n",
    "g2 := DihedralGroup(8);;\n",
    "normal_list := NormalSubgroups(g2);;\n",
    "List(normal_list, x-> StructureDescription(x));\n",
    "Size(normal_list);\n"
   ]
  },
  {
   "cell_type": "markdown",
   "id": "11f3bad3",
   "metadata": {},
   "source": [
    "Podemos encontrar Propriedades e características do grupo: "
   ]
  },
  {
   "cell_type": "code",
   "execution_count": 204,
   "id": "f65b9d7b",
   "metadata": {},
   "outputs": [
    {
     "data": {
      "text/plain": [
       "(C3 x C3) : C3"
      ]
     },
     "execution_count": 200,
     "metadata": {
      "text/plain": ""
     },
     "output_type": "execute_result"
    },
    {
     "data": {
      "text/plain": [
       "\"(C3 x C3) : C3\""
      ]
     },
     "execution_count": 201,
     "metadata": {
      "text/plain": ""
     },
     "output_type": "execute_result"
    },
    {
     "data": {
      "text/plain": [
       "true"
      ]
     },
     "execution_count": 202,
     "metadata": {
      "text/plain": ""
     },
     "output_type": "execute_result"
    },
    {
     "data": {
      "text/plain": [
       "true"
      ]
     },
     "execution_count": 203,
     "metadata": {
      "text/plain": ""
     },
     "output_type": "execute_result"
    },
    {
     "data": {
      "text/plain": [
       "2"
      ]
     },
     "execution_count": 204,
     "metadata": {
      "text/plain": ""
     },
     "output_type": "execute_result"
    }
   ],
   "source": [
    "g1 := OneSmallGroup(27, x-> (IsPGroup(x) and not IsAbelian(x)));\n",
    "\n",
    "StructureDescription(g1);\n",
    "\n",
    "IsNilpotent(g1);\n",
    "\n",
    "IsSolvable(g1);\n",
    "\n",
    "NilpotencyClassOfGroup(g1);\n",
    "\n"
   ]
  },
  {
   "cell_type": "markdown",
   "id": "d3803f45",
   "metadata": {},
   "source": [
    "**Podemos** encontrar séries importantes do grupo (como a série derivada, a serie central ascendente/descendente, a série de composição do grupo):"
   ]
  },
  {
   "cell_type": "code",
   "execution_count": 239,
   "id": "b3bea248",
   "metadata": {},
   "outputs": [
    {
     "data": {
      "text/plain": [
       "D18"
      ]
     },
     "execution_count": 233,
     "metadata": {
      "text/plain": ""
     },
     "output_type": "execute_result"
    },
    {
     "data": {
      "text/plain": [
       "true"
      ]
     },
     "execution_count": 234,
     "metadata": {
      "text/plain": ""
     },
     "output_type": "execute_result"
    },
    {
     "data": {
      "text/plain": [
       "false"
      ]
     },
     "execution_count": 235,
     "metadata": {
      "text/plain": ""
     },
     "output_type": "execute_result"
    },
    {
     "data": {
      "text/plain": [
       "[ \"D18\", \"C9\" ]"
      ]
     },
     "execution_count": 237,
     "metadata": {
      "text/plain": ""
     },
     "output_type": "execute_result"
    },
    {
     "data": {
      "text/plain": [
       "[ \"D18\", \"C9\", \"1\" ]"
      ]
     },
     "execution_count": 239,
     "metadata": {
      "text/plain": ""
     },
     "output_type": "execute_result"
    }
   ],
   "source": [
    "g1 := DihedralGroup(2*9);\n",
    "\n",
    "IsSolvable(g1);\n",
    "\n",
    "IsNilpotent(g1);\n",
    "\n",
    "series_list := LowerCentralSeries(g1);;\n",
    "\n",
    "List(series_list, x-> StructureDescription(x));\n",
    "\n",
    "s2_list := DerivedSeries(g1);;\n",
    "\n",
    "List(s2_list, x-> StructureDescription(x));\n"
   ]
  },
  {
   "cell_type": "code",
   "execution_count": null,
   "id": "35a20ae3",
   "metadata": {},
   "outputs": [],
   "source": []
  }
 ],
 "metadata": {
  "kernelspec": {
   "display_name": "GAP 4",
   "language": "gap",
   "name": "gap-4"
  },
  "language_info": {
   "codemirror_mode": "gap",
   "file_extension": ".g",
   "mimetype": "text/x-gap",
   "name": "GAP 4",
   "nbconvert_exporter": "",
   "pygments_lexer": "gap",
   "version": "4.11.1"
  }
 },
 "nbformat": 4,
 "nbformat_minor": 5
}
