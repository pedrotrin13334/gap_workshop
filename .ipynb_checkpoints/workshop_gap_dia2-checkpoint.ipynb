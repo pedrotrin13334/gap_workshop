{
 "cells": [
  {
   "cell_type": "markdown",
   "id": "e0c9918f",
   "metadata": {},
   "source": [
    "# Bem Vindo ao Dia 2 do Workshop de GAP!"
   ]
  },
  {
   "cell_type": "code",
   "execution_count": 1,
   "id": "05c3cc5e",
   "metadata": {},
   "outputs": [
    {
     "data": {
      "text/plain": [
       "true"
      ]
     },
     "execution_count": 1,
     "metadata": {
      "text/plain": ""
     },
     "output_type": "execute_result"
    }
   ],
   "source": [
    "LoadPackage(\"JupyterViz\");"
   ]
  },
  {
   "cell_type": "markdown",
   "id": "635f24ac",
   "metadata": {},
   "source": [
    "## Ações de grupo"
   ]
  },
  {
   "cell_type": "markdown",
   "id": "40f4951c",
   "metadata": {},
   "source": [
    "Vamos falar um pouquinho sobre ações de grupos:\n",
    "\n",
    "Seja $G$ um grupo e $\\Omega$ um conjunto qualquer, definimos uma ação de grupo como sendo uma função \n",
    "$G \\times \\Omega \\rightarrow \\Omega$ tal que\n",
    "\n",
    "- $e.x = x, \\quad \\forall x \\in \\Omega$ \n",
    "- $g_{1}(g_{2}.x) = (g_{1}g_{2})x$\n",
    "\n",
    "Vou mostrar como conseguimos integrar as ideias de ação no GAP muito bem, \n",
    "principalmente utilizando a noção de grupos de permutação. \n",
    "\n",
    "Por exemplo, seja $(1,3,2,4) \\in S_{4}$ e S4 agindo em índices {1,2,3,4} "
   ]
  },
  {
   "cell_type": "code",
   "execution_count": 10,
   "id": "c43dba28",
   "metadata": {},
   "outputs": [
    {
     "data": {
      "text/plain": [
       "3"
      ]
     },
     "execution_count": 10,
     "metadata": {
      "text/plain": ""
     },
     "output_type": "execute_result"
    }
   ],
   "source": [
    "g := (1,3,2,4);;\n",
    "1^g;"
   ]
  },
  {
   "cell_type": "code",
   "execution_count": 12,
   "id": "f0c6ec75",
   "metadata": {},
   "outputs": [
    {
     "data": {
      "text/plain": [
       "[ 3, 4 ]"
      ]
     },
     "execution_count": 12,
     "metadata": {
      "text/plain": ""
     },
     "output_type": "execute_result"
    }
   ],
   "source": [
    "tuple := [1,2];;\n",
    "OnTuples(tuple,g);"
   ]
  },
  {
   "cell_type": "code",
   "execution_count": 20,
   "id": "0d61ff30",
   "metadata": {},
   "outputs": [
    {
     "data": {
      "text/plain": [
       "[ [ 3, 4 ], [ 4, 2 ], [ 2, 1 ], [ 3, 2 ] ]"
      ]
     },
     "execution_count": 20,
     "metadata": {
      "text/plain": ""
     },
     "output_type": "execute_result"
    }
   ],
   "source": [
    "m := [[1,2], [2,3],\n",
    "        [3,4], [1,3]];;\n",
    "\n",
    "OnTuplesTuples(m, g);\n"
   ]
  },
  {
   "cell_type": "markdown",
   "id": "8ebd8e9f",
   "metadata": {},
   "source": [
    "## Embedding de um grupo no grupo de isomorfismo \n",
    "\n",
    "Todo grupo é isomorfo a um subgrupo de $S_{n}$ com $n > |G|$,  \n",
    "podemos encontrar esse isomorfismo com o gap:"
   ]
  },
  {
   "cell_type": "code",
   "execution_count": null,
   "id": "2105d95e",
   "metadata": {},
   "outputs": [],
   "source": [
    "group := CyclicGroup(8)  # Mudar esse grupo para seu grupo favorito"
   ]
  }
 ],
 "metadata": {
  "kernelspec": {
   "display_name": "GAP 4",
   "language": "gap",
   "name": "gap-4"
  },
  "language_info": {
   "codemirror_mode": "gap",
   "file_extension": ".g",
   "mimetype": "text/x-gap",
   "name": "GAP 4",
   "nbconvert_exporter": "",
   "pygments_lexer": "gap",
   "version": "4.11.1"
  }
 },
 "nbformat": 4,
 "nbformat_minor": 5
}
