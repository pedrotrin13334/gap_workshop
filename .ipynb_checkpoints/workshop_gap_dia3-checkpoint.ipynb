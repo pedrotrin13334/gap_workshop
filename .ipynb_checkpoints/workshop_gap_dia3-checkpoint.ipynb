{
 "cells": [
  {
   "cell_type": "markdown",
   "id": "0e32408e",
   "metadata": {},
   "source": [
    "# Funções em GAP\n",
    "\n",
    "Dentro do GAP é possível definir funções customizadas para os casos \n",
    "de uso do usuário, por exemplo: "
   ]
  },
  {
   "cell_type": "code",
   "execution_count": 3,
   "id": "e6133707",
   "metadata": {},
   "outputs": [
    {
     "data": {
      "text/plain": [
       "function( p_num, p_list... ) ... end"
      ]
     },
     "execution_count": 3,
     "metadata": {
      "text/plain": ""
     },
     "output_type": "execute_result"
    }
   ],
   "source": [
    "PPairGroup := function(p_num, p_list...)\n",
    "    # This function receives a prime (or list of) p and returns \n",
    "    # group(s) of order n such that n = p'.p pairs in the list\n",
    "    local grp_list, b_list, p_pairs, pair;;\n",
    "    grp_list := [];; \n",
    "    if IsEmpty(p_list) then\n",
    "        if IsInt(p_num) and IsPrime(p_num) then\n",
    "            return OneSmallGroup(p_num);;\n",
    "        else\n",
    "            Display(\"This Function only accepts primes\");;\n",
    "            return fail; # This function only accepts primes\n",
    "        fi;\n",
    "    else \n",
    "        Add(p_list, p_num);;\n",
    "        b_list := List(p_list, x-> IsInt(x) and IsPrime(x));; # Tests if all numbers are prime\n",
    "    \n",
    "        if IntersectionBlist(b_list) = List([1..Size(b_list)], x->true) then\n",
    "            p_pairs := Combinations(p_list,2);;\n",
    "           \n",
    "            for pair in p_pairs do\n",
    "                Add(grp_list, OneSmallGroup(pair[1]*pair[2]));\n",
    "            od;;\n",
    "            \n",
    "            return grp_list; \n",
    "        else\n",
    "            Display(\"The list doesn't have only primes\");;\n",
    "            return fail; \n",
    "        fi;\n",
    "    fi;\n",
    "end;"
   ]
  },
  {
   "cell_type": "code",
   "execution_count": 63,
   "id": "1eef1807",
   "metadata": {},
   "outputs": [
    {
     "name": "stdout",
     "output_type": "stream",
     "text": [
      "The list doesn't have only primes\n",
      "The list doesn't have only primes\n"
     ]
    },
    {
     "data": {
      "text/plain": [
       "fail"
      ]
     },
     "execution_count": 62,
     "metadata": {
      "text/plain": ""
     },
     "output_type": "execute_result"
    },
    {
     "data": {
      "text/plain": [
       "fail"
      ]
     },
     "execution_count": 63,
     "metadata": {
      "text/plain": ""
     },
     "output_type": "execute_result"
    }
   ],
   "source": [
    "# uncomment the function you want to test\n",
    "#PPairGroup(3);\n",
    "#PPairGroup([\"mamão\", \"Banana\"]);\n",
    "#PPairGroup(2,3,5);\n",
    "#PPairGroup(2,4);\n",
    "#PPairGroup(3,\"teste\");"
   ]
  },
  {
   "cell_type": "markdown",
   "id": "85510b40",
   "metadata": {},
   "source": [
    "Time é uma variável reservada do GAP que podemos utilizar para medir o tempo de execução de funções, ele mede o tempo em milisegundos que a última instrução levou."
   ]
  },
  {
   "cell_type": "code",
   "execution_count": 90,
   "id": "907b7464",
   "metadata": {},
   "outputs": [
    {
     "name": "stdout",
     "output_type": "stream",
     "text": [
      "This is the time before function ran:\n",
      "846\n",
      "This is the time before function ran:\n",
      "846\n"
     ]
    }
   ],
   "source": [
    "g := Group(List([1..3], i-> Random(SymmetricGroup(53))));;\n",
    "Size( G ); time; # This should take a little longer\n",
    "# A second time the attributes are setted\n",
    "Size( G ); time;"
   ]
  },
  {
   "cell_type": "markdown",
   "id": "f70399b5",
   "metadata": {},
   "source": [
    "Funções no GAP são cidadãos de primeira classe, o que significa que é possível passá-los como argumentos para outras funções: "
   ]
  },
  {
   "cell_type": "code",
   "execution_count": null,
   "id": "1854d6ee",
   "metadata": {},
   "outputs": [],
   "source": [
    "FunctionTester := function(input, func)\n",
    "    local func_value;\n",
    "    func_value := func(input);;\n",
    "    if func_value := fail then\n",
    "        Display(\"The function didn't work :c \");\n",
    "    fi;\n",
    "    \n",
    "    return func_value; \n",
    "end;"
   ]
  },
  {
   "cell_type": "code",
   "execution_count": null,
   "id": "d909ad11",
   "metadata": {},
   "outputs": [],
   "source": [
    "FunctionTester(3, OneSmallGroup);\n",
    "FunctionTester(\"Don't do this\", IsInt); "
   ]
  },
  {
   "cell_type": "markdown",
   "id": "a059cd65",
   "metadata": {},
   "source": [
    "Outra Estrutura de dados importantes no gap é o record (rec), que são como listas porém com \"chaves\" que identificam cada elementos, por exemplo:"
   ]
  },
  {
   "cell_type": "code",
   "execution_count": null,
   "id": "0eea7f89",
   "metadata": {},
   "outputs": [
    {
     "data": {
      "text/plain": [
       "1"
      ]
     },
     "execution_count": 2,
     "metadata": {
      "text/plain": ""
     },
     "output_type": "execute_result"
    },
    {
     "data": {
      "text/plain": [
       "[ 1, 2, 3 ]"
      ]
     },
     "execution_count": 3,
     "metadata": {
      "text/plain": ""
     },
     "output_type": "execute_result"
    },
    {
     "data": {
      "text/plain": [
       "2"
      ]
     },
     "execution_count": 4,
     "metadata": {
      "text/plain": ""
     },
     "output_type": "execute_result"
    },
    {
     "data": {
      "text/plain": [
       "\"This is a message\""
      ]
     },
     "execution_count": 5,
     "metadata": {
      "text/plain": ""
     },
     "output_type": "execute_result"
    }
   ],
   "source": [
    "myrec := rec(value:= 1,  inner_list := [1,2,3], message := \"This is a message\");;\n",
    "myrec.value;\n",
    "myrec.inner_list;\n",
    "myrec.inner_list[2];\n",
    "myrec.message; "
   ]
  },
  {
   "cell_type": "markdown",
   "id": "589eb10a",
   "metadata": {},
   "source": [
    "Esse tipo estrutura de dados pode ser utilizada de diferentes formas dentro do GAP, é possível criar estruturas ainda mais convolutas ou colocar informações adicionais em objetos que podem ser utilizadas para a função para fazer otimizações em seus processos. \n",
    "\n",
    "**Por exemplo**, a seguinte função recebe como um parâmetro um tipo de lista especial, que é um record com duas chaves:  A primeira sendo a lista normal, e um segundo parâmetro uma mensagem de \"Bom dia\" e a função só soma os elementos da lista se tiver essa mensagem."
   ]
  },
  {
   "cell_type": "code",
   "execution_count": null,
   "id": "0cbb4709",
   "metadata": {},
   "outputs": [
    {
     "data": {
      "text/plain": [
       "function( special_list ) ... end"
      ]
     },
     "execution_count": 1,
     "metadata": {
      "text/plain": ""
     },
     "output_type": "execute_result"
    }
   ],
   "source": [
    "GoodMannersSum := function(special_list)\n",
    "    # This function receives a rec with two keys .list and .message\n",
    "    local b_list;; \n",
    "    b_list := List(special_list.list, x->IsInt(x));;\n",
    "    if b_list = List([1..Size(b_list)], x->true) then\n",
    "        if special_list.message = \"Good Morning\" then\n",
    "            return Sum(special_list.list);\n",
    "        else \n",
    "            Display(\"No Good Morning Message :/\");\n",
    "            return fail;\n",
    "        fi;\n",
    "    else \n",
    "        Display(\"Not an integer List\");;\n",
    "        return fail;\n",
    "    fi;\n",
    "end;"
   ]
  },
  {
   "cell_type": "code",
   "execution_count": null,
   "id": "75fc8488",
   "metadata": {},
   "outputs": [
    {
     "name": "stdout",
     "output_type": "stream",
     "text": [
      "No Good Morning Message :/\n"
     ]
    },
    {
     "data": {
      "text/plain": [
       "fail"
      ]
     },
     "execution_count": 3,
     "metadata": {
      "text/plain": ""
     },
     "output_type": "execute_result"
    },
    {
     "data": {
      "text/plain": [
       "8"
      ]
     },
     "execution_count": 5,
     "metadata": {
      "text/plain": ""
     },
     "output_type": "execute_result"
    }
   ],
   "source": [
    "rec1 := rec(list:= [1, 3, 4], message :=\"No Good Morning\" );;\n",
    "GoodMannersSum(rec1);\n",
    "rec2 := rec(list:= [1, 3, 4], message :=\"Good Morning\" );;\n",
    "GoodMannersSum(rec2);"
   ]
  },
  {
   "cell_type": "markdown",
   "id": "f0eb4ac4",
   "metadata": {},
   "source": [
    "# Estrutura de tipos do GAP"
   ]
  },
  {
   "cell_type": "markdown",
   "id": "a95aa9d8",
   "metadata": {},
   "source": [
    "## Objetos \n",
    "\n",
    "Um objeto no GAP é qualquer coisa que pode ser atribuida à uma variável, então quase tudo no GAP é um objeto."
   ]
  },
  {
   "cell_type": "code",
   "execution_count": null,
   "id": "435642d7",
   "metadata": {},
   "outputs": [
    {
     "data": {
      "text/plain": [
       "true"
      ]
     },
     "execution_count": 8,
     "metadata": {
      "text/plain": ""
     },
     "output_type": "execute_result"
    },
    {
     "data": {
      "text/plain": [
       "true"
      ]
     },
     "execution_count": 9,
     "metadata": {
      "text/plain": ""
     },
     "output_type": "execute_result"
    },
    {
     "data": {
      "text/plain": [
       "true"
      ]
     },
     "execution_count": 10,
     "metadata": {
      "text/plain": ""
     },
     "output_type": "execute_result"
    },
    {
     "data": {
      "text/plain": [
       "true"
      ]
     },
     "execution_count": 11,
     "metadata": {
      "text/plain": ""
     },
     "output_type": "execute_result"
    },
    {
     "data": {
      "text/plain": [
       "true"
      ]
     },
     "execution_count": 12,
     "metadata": {
      "text/plain": ""
     },
     "output_type": "execute_result"
    }
   ],
   "source": [
    "IsObject(3);\n",
    "IsObject(\"Texto\");\n",
    "IsObject([1,2,3]);\n",
    "IsObject(SymmetricGroup(3));\n",
    "IsObject((1,2,3));"
   ]
  },
  {
   "cell_type": "markdown",
   "id": "dfa734af",
   "metadata": {},
   "source": [
    "## Famílias\n",
    "\n",
    "The family of an object determines its relationship to other objects.\n",
    "\n",
    "More precisely, the families form a partition of all GAP objects such that the following two conditions hold: objects that are equal w.r.t. = lie in the same family; and the family of the result of an operation depends only on the families of its operands."
   ]
  },
  {
   "cell_type": "code",
   "execution_count": null,
   "id": "0f1daa43",
   "metadata": {},
   "outputs": [
    {
     "data": {
      "text/plain": [
       "<Family: \"CyclotomicsFamily\">"
      ]
     },
     "execution_count": 23,
     "metadata": {
      "text/plain": ""
     },
     "output_type": "execute_result"
    },
    {
     "data": {
      "text/plain": [
       "<Family: \"StringsFamily\">"
      ]
     },
     "execution_count": 24,
     "metadata": {
      "text/plain": ""
     },
     "output_type": "execute_result"
    },
    {
     "data": {
      "text/plain": [
       "<Family: \"CollectionsFamily(...)\">"
      ]
     },
     "execution_count": 25,
     "metadata": {
      "text/plain": ""
     },
     "output_type": "execute_result"
    },
    {
     "data": {
      "text/plain": [
       "<Family: \"CollectionsFamily(...)\">"
      ]
     },
     "execution_count": 26,
     "metadata": {
      "text/plain": ""
     },
     "output_type": "execute_result"
    },
    {
     "data": {
      "text/plain": [
       "<Family: \"PermutationsFamily\">"
      ]
     },
     "execution_count": 27,
     "metadata": {
      "text/plain": ""
     },
     "output_type": "execute_result"
    }
   ],
   "source": [
    "FamilyObj(3);\n",
    "FamilyObj(\"Texto\");\n",
    "FamilyObj([1,2,3]);\n",
    "FamilyObj(SymmetricGroup(3));\n",
    "FamilyObj((1,2,3));"
   ]
  },
  {
   "cell_type": "markdown",
   "id": "2b6cd062",
   "metadata": {},
   "source": [
    "## Coleções \n",
    "\n",
    "A collection in GAP consists of elements in the same family (see 13.1). The most important kinds of collections are homogeneous lists (see 21) and domains (see 12.4).\n",
    "\n",
    "## Domínios\n",
    "\n",
    "Domain is GAP's name for structured sets. The ring of Gaussian integers $\\mathbb{Z}[\\sqrt{-1}]$ is an example of a domain, the group $D_{12}$ of symmetries of a regular hexahedron is another.\n",
    "\n",
    "The GAP library predefines some domains. For example the ring of Gaussian integers is predefined as GaussianIntegers (60.5-1) (see 60.5) and the field of rationals is predefined as Rationals (17.1-1) (see 17). Most domains are constructed by functions, which are called domain constructors (see 31.3). For example the group D_12 is constructed by the construction Group( (1,2,3,4,5,6), (2,6)(3,5) ) (see Group (39.2-1)) and the finite field with 16 elements is constructed by GaloisField( 16 ) (see GaloisField (59.3-2))."
   ]
  },
  {
   "cell_type": "markdown",
   "id": "7e9b7807",
   "metadata": {},
   "source": [
    "## Filtros\n",
    "\n",
    "Filter is a special unary GAP function that returns either true or false, depending on whether or not the argument lies in the set defined by the filter. Filters are used to express different aspects of information about a GAP object,"
   ]
  },
  {
   "cell_type": "code",
   "execution_count": 7,
   "id": "575c5c5b",
   "metadata": {},
   "outputs": [
    {
     "name": "stdout",
     "output_type": "stream",
     "text": [
      "Implies:\n",
      "   IsListOrCollection\n",
      "   IsCollection\n",
      "   IsDuplicateFree\n",
      "   IsExtLElement\n",
      "   CategoryCollections(IsExtLElement)\n",
      "   IsExtRElement\n",
      "   CategoryCollections(IsExtRElement)\n",
      "   CategoryCollections(IsMultiplicativeElement)\n",
      "   CategoryCollections(IsMultiplicativeElementWithOne)\n",
      "   CategoryCollections(IsMultiplicativeElementWithInverse)\n",
      "   IsGeneralizedDomain\n",
      "   IsMagma\n",
      "   IsMagmaWithOne\n",
      "   IsMagmaWithInversesIfNonzero\n",
      "   IsMagmaWithInverses\n",
      "   IsAssociative\n",
      "   HasMultiplicativeNeutralElement\n",
      "   IsGeneratorsOfSemigroup\n",
      "   IsSimpleSemigroup\n",
      "   IsRegularSemigroup\n",
      "   IsInverseSemigroup\n",
      "   IsCompletelyRegularSemigroup\n",
      "   IsGroupAsSemigroup\n",
      "   IsMonoidAsSemigroup\n",
      "   IsOrthodoxSemigroup\n",
      "   IsSupersolvableGroup\n",
      "   IsSolvableGroup\n",
      "   IsNilpotentByFinite\n",
      "\n",
      "\n",
      "May imply with:\n",
      "+IsFinitelyGeneratedGroup\n",
      "   IsPolycyclicGroup\n",
      "\n"
     ]
    }
   ],
   "source": [
    "ShowImpliedFilters(IsNilpotentGroup);"
   ]
  },
  {
   "cell_type": "markdown",
   "id": "5df9d6be",
   "metadata": {},
   "source": [
    "## Categorias \n",
    "\n",
    "The categories of an object are filters (see 13.2) that determine what operations an object admits. For example, all integers form a category, all rationals form a category, and all rational functions form a category. "
   ]
  },
  {
   "cell_type": "code",
   "execution_count": 29,
   "id": "b2c669f9",
   "metadata": {},
   "outputs": [
    {
     "data": {
      "text/plain": [
       "[ \"IsListOrCollection\", \"IsCollection\", \"IsExtLElement\",   \"CategoryCollections(IsExtLElement)\", \"IsExtRElement\",   \"CategoryCollections(IsExtRElement)\",   \"CategoryCollections(IsMultiplicativeElement)\",   \"CategoryCollections(IsMultiplicativeElementWithOne)\",   \"CategoryCollections(IsMultiplicativeElementWithInverse)\",   \"CategoryCollections(IsAssociativeElement)\",   \"CategoryCollections(IsFiniteOrderElement)\", \"IsGeneralizedDomain\",   \"CategoryCollections(IsPerm)\", \"IsMagma\", \"IsMagmaWithOne\",   \"IsMagmaWithInversesIfNonzero\", \"IsMagmaWithInverses\" ]"
      ]
     },
     "execution_count": 29,
     "metadata": {
      "text/plain": ""
     },
     "output_type": "execute_result"
    }
   ],
   "source": [
    "g:=Group((1,2),(1,2,3));;\n",
    "CategoriesOfObject(g);"
   ]
  },
  {
   "cell_type": "markdown",
   "id": "4a0dbe6a",
   "metadata": {},
   "source": [
    "## Atributos\n",
    "\n",
    "The attributes of an object describe knowledge about it."
   ]
  },
  {
   "cell_type": "code",
   "execution_count": null,
   "id": "98c91fd4",
   "metadata": {},
   "outputs": [
    {
     "data": {
      "text/plain": [
       "[ \"GeneratorsOfMagmaWithInverses\", \"MultiplicativeNeutralElement\" ]"
      ]
     },
     "execution_count": 31,
     "metadata": {
      "text/plain": ""
     },
     "output_type": "execute_result"
    },
    {
     "data": {
      "text/plain": [
       "[ \"Size\", \"OneImmutable\", \"NrMovedPoints\", \"MovedPoints\",   \"GeneratorsOfMagmaWithInverses\", \"MultiplicativeNeutralElement\",   \"HomePcgs\", \"Pcgs\", \"StabChainMutable\", \"StabChainOptions\" ]"
      ]
     },
     "execution_count": 33,
     "metadata": {
      "text/plain": ""
     },
     "output_type": "execute_result"
    }
   ],
   "source": [
    "g:=Group((1,2),(1,2,3));;\n",
    "KnownAttributesOfObject(g);\n",
    "Size(g);;\n",
    "KnownAttributesOfObject(g);\n"
   ]
  },
  {
   "cell_type": "markdown",
   "id": "1a8669a2",
   "metadata": {},
   "source": [
    "## Propriedades \n",
    "\n",
    "The properties of an object are those of its attributes (see 13.5) whose values can only be true or false."
   ]
  },
  {
   "cell_type": "code",
   "execution_count": 35,
   "id": "5e3b1bf5",
   "metadata": {},
   "outputs": [
    {
     "data": {
      "text/plain": [
       "[ \"IsEmpty\", \"IsTrivial\", \"IsNonTrivial\", \"IsFinite\",   \"CanEasilyCompareElements\", \"CanEasilySortElements\", \"IsDuplicateFree\",   \"IsGeneratorsOfMagmaWithInverses\", \"IsAssociative\",   \"IsGeneratorsOfSemigroup\", \"IsSimpleSemigroup\", \"IsRegularSemigroup\",   \"IsInverseSemigroup\", \"IsCompletelyRegularSemigroup\",   \"IsCompletelySimpleSemigroup\", \"IsGroupAsSemigroup\", \"IsMonoidAsSemigroup\",   \"IsOrthodoxSemigroup\", \"IsFinitelyGeneratedGroup\",   \"IsSubsetLocallyFiniteGroup\", \"KnowsHowToDecompose\",   \"IsInfiniteAbelianizationGroup\", \"IsNilpotentByFinite\", \"IsTorsionFree\",   \"IsFreeAbelian\" ]"
      ]
     },
     "execution_count": 35,
     "metadata": {
      "text/plain": ""
     },
     "output_type": "execute_result"
    }
   ],
   "source": [
    "g:=Group((1,2),(1,2,3));;\n",
    "KnownPropertiesOfObject(g);"
   ]
  },
  {
   "cell_type": "markdown",
   "id": "41419d0f",
   "metadata": {},
   "source": [
    "## Tipos\n",
    "\n",
    "We stated above (see 13) that, for an object obj, its type is formed from its family and its filters."
   ]
  },
  {
   "cell_type": "code",
   "execution_count": null,
   "id": "76381990",
   "metadata": {},
   "outputs": [
    {
     "data": {
      "text/plain": [
       "<Type: (CyclotomicsFamily, [ IsInt, IsRat, IsCyc, ... ]), data: fail,>"
      ]
     },
     "execution_count": 36,
     "metadata": {
      "text/plain": ""
     },
     "output_type": "execute_result"
    },
    {
     "data": {
      "text/plain": [
       "<Type: (CollectionsFamily(...), [ IsMutable, IsCopyable, IsList, ... ]), data:\\ fail,>"
      ]
     },
     "execution_count": 37,
     "metadata": {
      "text/plain": ""
     },
     "output_type": "execute_result"
    },
    {
     "data": {
      "text/plain": [
       "<Type: (PermutationsFamily, [ IsPerm, IsInternalRep, CanEasilyCompareElements,\\ ... ]), data: fail,>"
      ]
     },
     "execution_count": 38,
     "metadata": {
      "text/plain": ""
     },
     "output_type": "execute_result"
    },
    {
     "data": {
      "text/plain": [
       "<Type: (CollectionsFamily(...), [ IsComponentObjectRep, IsAttributeStoringRep,\\ IsListOrCollection, ... ]), data: fail,>"
      ]
     },
     "execution_count": 39,
     "metadata": {
      "text/plain": ""
     },
     "output_type": "execute_result"
    }
   ],
   "source": [
    "TypeObj(3);\n",
    "TypeObj([1,2,3]);\n",
    "TypeObj((1,2,3));\n",
    "TypeObj(SymmetricGroup(3));"
   ]
  },
  {
   "cell_type": "markdown",
   "id": "ddee7578",
   "metadata": {},
   "source": [
    "## Representações \n",
    "\n",
    "The representation of an object is a set of filters (see 13.2) that determines how an object is actually represented. For example, a matrix or a polynomial can be stored sparsely or densely; all dense polynomials form a representation. "
   ]
  },
  {
   "cell_type": "code",
   "execution_count": 51,
   "id": "8ad17966",
   "metadata": {},
   "outputs": [
    {
     "data": {
      "text/plain": [
       "[ \"IsInternalRep\", \"IsPerm2Rep\" ]"
      ]
     },
     "execution_count": 48,
     "metadata": {
      "text/plain": ""
     },
     "output_type": "execute_result"
    },
    {
     "data": {
      "text/plain": [
       "[ \"IsStringRep\", \"IsInternalRep\" ]"
      ]
     },
     "execution_count": 49,
     "metadata": {
      "text/plain": ""
     },
     "output_type": "execute_result"
    },
    {
     "data": {
      "text/plain": [
       "[ \"IsPlistRep\", \"IsInternalRep\" ]"
      ]
     },
     "execution_count": 50,
     "metadata": {
      "text/plain": ""
     },
     "output_type": "execute_result"
    },
    {
     "data": {
      "text/plain": [
       "[ \"IsComponentObjectRep\", \"IsAttributeStoringRep\" ]"
      ]
     },
     "execution_count": 51,
     "metadata": {
      "text/plain": ""
     },
     "output_type": "execute_result"
    }
   ],
   "source": [
    "RepresentationsOfObject((1,2,3));\n",
    "RepresentationsOfObject(\"text\");\n",
    "RepresentationsOfObject([1,2,3]);\n",
    "RepresentationsOfObject(SymmetricGroup(3));"
   ]
  },
  {
   "cell_type": "markdown",
   "id": "56cc8e98",
   "metadata": {},
   "source": [
    "# Agora voltando para a parte divertida\n",
    "\n",
    "## Construindo um novo objeto\n",
    "\n",
    "Com todo o conhecimento adquirido até aqui, conseguimos construir um objeto do GAP do zero.  Definindo o que for necessário de estrutura e operações.  \n",
    "\n",
    "Com um fim pedagógico, vamos implementar a seguinte estrutura algébrica, que denotaremos como \"Strange Complex Numbers\" $\\mathbb{SC}$:\n",
    "\n",
    "- $\\mathbb{SC} = \\{x \\in \\mathbb{C}\\}$\n",
    "- se $x,y \\in \\mathbb{SC}$, então $x\\otimes y = (x+y)^2$\n",
    "- se $x,y \\in \\mathbb{SC}$, então $x\\oplus y = 2x + 5y $\n"
   ]
  },
  {
   "cell_type": "markdown",
   "id": "45e85102",
   "metadata": {},
   "source": [
    "Para construir este objeto primeiramente definimos uma categoria e uma representação para ele (que no caso utilizaremos representação de lista) para ele: "
   ]
  },
  {
   "cell_type": "code",
   "execution_count": null,
   "id": "c5c4b29b",
   "metadata": {},
   "outputs": [],
   "source": [
    "DeclareCategory(\"IsStrangeComplex\", IsObject);\n",
    "DeclareRepresentation(\"IsStrangeComplexListRep\", IsPositionalObjectRep, [1]);"
   ]
  },
  {
   "cell_type": "markdown",
   "id": "07cb08c6",
   "metadata": {},
   "source": [
    "Assim conseguimos construir um tipo para estes números Strange Complex:"
   ]
  },
  {
   "cell_type": "code",
   "execution_count": 3,
   "id": "52f356d9",
   "metadata": {},
   "outputs": [
    {
     "data": {
      "text/plain": [
       "<Type: (StrangeComplexFamily, [ IsPositionalObjectRep, IsStrangeComplex, IsStr\\angeComplexListRep ]), data: fail,>"
      ]
     },
     "execution_count": 3,
     "metadata": {
      "text/plain": ""
     },
     "output_type": "execute_result"
    }
   ],
   "source": [
    "StrangeComplexType:= NewType( NewFamily( \"StrangeComplexFamily\" ),\n",
    "IsStrangeComplex and IsStrangeComplexListRep );"
   ]
  },
  {
   "cell_type": "markdown",
   "id": "f3f6a5cc",
   "metadata": {},
   "source": [
    "**Então** fazemos uma função que cria nossos objetos do nosso tipo Strange Complex:"
   ]
  },
  {
   "cell_type": "code",
   "execution_count": null,
   "id": "71f951e3",
   "metadata": {},
   "outputs": [
    {
     "data": {
      "text/plain": [
       "function( val ) ... end"
      ]
     },
     "execution_count": 4,
     "metadata": {
      "text/plain": ""
     },
     "output_type": "execute_result"
    }
   ],
   "source": [
    "StrangeComplex := val -> Objectify(StrangeComplexType, [Immutable(val)]);"
   ]
  },
  {
   "cell_type": "markdown",
   "id": "ca8f4395",
   "metadata": {},
   "source": [
    "**Agora** podemos criar objetos para esse tipo: "
   ]
  },
  {
   "cell_type": "code",
   "execution_count": 7,
   "id": "3bca8e8e",
   "metadata": {},
   "outputs": [
    {
     "data": {
      "text/plain": [
       "<object>"
      ]
     },
     "execution_count": 5,
     "metadata": {
      "text/plain": ""
     },
     "output_type": "execute_result"
    },
    {
     "data": {
      "text/plain": [
       "[ 1, 2 ]"
      ]
     },
     "execution_count": 6,
     "metadata": {
      "text/plain": ""
     },
     "output_type": "execute_result"
    },
    {
     "data": {
      "text/plain": [
       "1"
      ]
     },
     "execution_count": 7,
     "metadata": {
      "text/plain": ""
     },
     "output_type": "execute_result"
    }
   ],
   "source": [
    "a:= StrangeComplex([1,2]);\n",
    "a![1];\n",
    "a![1][1];"
   ]
  },
  {
   "cell_type": "markdown",
   "id": "a24fcf09",
   "metadata": {},
   "source": [
    "**Então** por último chegamos ao objetivo final: Podemos definir quaisquer métodos e operações para \n",
    "nosso objeto pertencente aos Strange Complex.\n",
    "\n",
    "Por exemplo, vamos fazer um \"View\" para os nossos $\\mathbb{SC}$."
   ]
  },
  {
   "cell_type": "code",
   "execution_count": 5,
   "id": "a094cd21",
   "metadata": {},
   "outputs": [],
   "source": [
    "InstallMethod( ViewObj,\n",
    "\"for object in `IsStrangeComplex'\",\n",
    "[ IsStrangeComplex and IsStrangeComplexListRep ],\n",
    "    function( obj )\n",
    "        Print( \"<3 ~~ (\", obj![1][1], \" + \" ,obj![1][2],\"i) ~~ <3\" );\n",
    "    end );"
   ]
  },
  {
   "cell_type": "code",
   "execution_count": null,
   "id": "0b60fbf5",
   "metadata": {},
   "outputs": [
    {
     "data": {
      "text/plain": [
       "<3 ~~ (2 + 3i) ~~ <3"
      ]
     },
     "execution_count": 7,
     "metadata": {
      "text/plain": ""
     },
     "output_type": "execute_result"
    }
   ],
   "source": [
    "a := StrangeComplex([2,3]);;\n",
    "a;"
   ]
  },
  {
   "cell_type": "markdown",
   "id": "1215adc2",
   "metadata": {},
   "source": [
    "**Podemos** também implementar as operações de soma e multiplicação de Strange Complex como desejado:"
   ]
  },
  {
   "cell_type": "code",
   "execution_count": null,
   "id": "7cc2af41",
   "metadata": {},
   "outputs": [],
   "source": [
    "InstallOtherMethod( \\+,\n",
    "    \"for two objects in `IsStrangeComplex'\",\n",
    "    [ IsStrangeComplex and IsStrangeComplexListRep,\n",
    "    IsStrangeComplex and IsStrangeComplexListRep ],\n",
    "    function( x, y )\n",
    "        return StrangeComplex([2*(x![1][1]+y![1][1]), 5*(x![1][2]+y![1][2])]);\n",
    "    end );\n",
    "\n",
    "InstallOtherMethod( \\*,\n",
    "    \"for two objects in `IsStrangeComplex'\",\n",
    "    [ IsStrangeComplex and IsStrangeComplexListRep,\n",
    "    IsStrangeComplex and IsStrangeComplexListRep ],\n",
    "    function( x, y )\n",
    "        local real_part, complex_part;\n",
    "        real_part := x![1][1] + y![1][1];\n",
    "        complex_part := x![1][2] + y![1][2];\n",
    "        return StrangeComplex([real_part^2 - complex_part^2, 2*real_part*complex_part]);\n",
    "    end );"
   ]
  },
  {
   "cell_type": "code",
   "execution_count": 20,
   "id": "21ea1b5b",
   "metadata": {},
   "outputs": [
    {
     "data": {
      "text/plain": [
       "<3 ~~ (6 + 25i) ~~ <3"
      ]
     },
     "execution_count": 19,
     "metadata": {
      "text/plain": ""
     },
     "output_type": "execute_result"
    },
    {
     "data": {
      "text/plain": [
       "<3 ~~ (-16 + 30i) ~~ <3"
      ]
     },
     "execution_count": 20,
     "metadata": {
      "text/plain": ""
     },
     "output_type": "execute_result"
    }
   ],
   "source": [
    "a := StrangeComplex([2,3]);;\n",
    "b := StrangeComplex([1,2]);;\n",
    "\n",
    "a+b;\n",
    "a*b;"
   ]
  },
  {
   "cell_type": "markdown",
   "id": "0a52a8ca",
   "metadata": {},
   "source": [
    "# Gerenciamento de Arquivos"
   ]
  },
  {
   "cell_type": "code",
   "execution_count": null,
   "id": "282427ad",
   "metadata": {},
   "outputs": [
    {
     "data": {
      "text/plain": [
       "dir(\"/home/nameless/Documents/matematica/doutorado/\")"
      ]
     },
     "execution_count": 15,
     "metadata": {
      "text/plain": ""
     },
     "output_type": "execute_result"
    }
   ],
   "source": [
    "DirectoryCurrent();"
   ]
  },
  {
   "cell_type": "code",
   "execution_count": 21,
   "id": "1d1cc78a",
   "metadata": {},
   "outputs": [
    {
     "data": {
      "text/plain": [
       "true"
      ]
     },
     "execution_count": 20,
     "metadata": {
      "text/plain": ""
     },
     "output_type": "execute_result"
    },
    {
     "data": {
      "text/plain": [
       "dir(\"/home/nameless/Documents/matematica/doutorado/workshop_gap/\")"
      ]
     },
     "execution_count": 21,
     "metadata": {
      "text/plain": ""
     },
     "output_type": "execute_result"
    }
   ],
   "source": [
    "ChangeDirectoryCurrent(\"/home/nameless/Documents/matematica/doutorado/workshop_gap\");\n",
    "DirectoryCurrent();"
   ]
  },
  {
   "cell_type": "markdown",
   "id": "9d669962",
   "metadata": {},
   "source": [
    "Podemos olhar implementações de funções do GAP no GitHub, ou no próprio diretório de instalação:"
   ]
  },
  {
   "cell_type": "code",
   "execution_count": 64,
   "id": "6fff5491",
   "metadata": {},
   "outputs": [
    {
     "data": {
      "text/plain": [
       "\"/home/nameless/Documents/programas/gap-4.11.1/pkg/SmallGrp-1.4.2/gap/small.gd\\:701\""
      ]
     },
     "execution_count": 64,
     "metadata": {
      "text/plain": ""
     },
     "output_type": "execute_result"
    }
   ],
   "source": [
    "LocationFunc(AllSmallGroups);"
   ]
  },
  {
   "cell_type": "markdown",
   "id": "770d41ba",
   "metadata": {},
   "source": [
    "**Temos** uma função no GAP que mapeia todas as funções utilizadas em uma outra função:"
   ]
  },
  {
   "cell_type": "code",
   "execution_count": 11,
   "id": "3755f976",
   "metadata": {},
   "outputs": [
    {
     "name": "stdout",
     "output_type": "stream",
     "text": [
      "#I  Size at /home/nameless/Documents/programas/gap-4.11.1/lib/coll.gi:176\n",
      "#I Trying next: Size: for a permutation group at /home/nameless/Documents/prog\\\n",
      "ramas/gap-4.11.1/lib/grpperm.gi:484\n",
      "#I  SetSize at /home/nameless/Documents/programas/gap-4.11.1/lib/coll.gi:3103\n"
     ]
    }
   ],
   "source": [
    "TraceMethods([Size]);;\n",
    "g:= Group( (1,2,3), (1,2) );;\n",
    "Size(g);;"
   ]
  },
  {
   "cell_type": "code",
   "execution_count": null,
   "id": "f1c78ac8",
   "metadata": {},
   "outputs": [],
   "source": []
  }
 ],
 "metadata": {
  "kernelspec": {
   "display_name": "GAP 4",
   "language": "gap",
   "name": "gap-4"
  },
  "language_info": {
   "codemirror_mode": "gap",
   "file_extension": ".g",
   "mimetype": "text/x-gap",
   "name": "GAP 4",
   "nbconvert_exporter": "",
   "pygments_lexer": "gap",
   "version": "4.11.1"
  }
 },
 "nbformat": 4,
 "nbformat_minor": 5
}
